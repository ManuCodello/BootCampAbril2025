{
 "cells": [
  {
   "cell_type": "markdown",
   "id": "e372ce29",
   "metadata": {},
   "source": [
    "# Python\n",
    "## Python\n",
    "### Python\n",
    "#### Python\n",
    "\n",
    "Python tiene que ser sencillo, es mejor que complicado\n"
   ]
  },
  {
   "cell_type": "code",
   "execution_count": 2,
   "id": "f01baa09",
   "metadata": {},
   "outputs": [
    {
     "name": "stdout",
     "output_type": "stream",
     "text": [
      "Hola mundo\n"
     ]
    }
   ],
   "source": [
    "print(\"Hola mundo\")"
   ]
  },
  {
   "cell_type": "markdown",
   "id": "4ce4bb4d",
   "metadata": {},
   "source": [
    "## Variable \n",
    "Es un espacio en la memoria donde se almacenan datos durante la ejecucion de nuesto programa\n",
    "Buenas Practicas\n",
    "Snake Case, se escribe en minuscula y el espacio se escribe en guiones "
   ]
  },
  {
   "cell_type": "code",
   "execution_count": null,
   "id": "24877acb",
   "metadata": {},
   "outputs": [],
   "source": [
    "nombre = \"Manu\"\n",
    "frutas = \"manzana\", \"pera\" "
   ]
  },
  {
   "cell_type": "markdown",
   "id": "1fe37153",
   "metadata": {},
   "source": [
    "## Tipo de datos \n",
    "\n",
    "- entero = integer - 112\n",
    "- float - floatin - 1.2\n",
    "- str - string - \"eduardo\" \n",
    "- bool true - false\n",
    "\n",
    "\n"
   ]
  },
  {
   "cell_type": "code",
   "execution_count": 4,
   "id": "5d41a616",
   "metadata": {},
   "outputs": [
    {
     "name": "stdout",
     "output_type": "stream",
     "text": [
      "'Manu'\n"
     ]
    }
   ],
   "source": [
    "numero = 1234\n",
    "numero_decimal = 1.2\n",
    "nombre = \"'Manu'\"\n",
    "cajon_abierto = False \n",
    "\n",
    "print(nombre)"
   ]
  },
  {
   "cell_type": "markdown",
   "id": "24df1aec",
   "metadata": {},
   "source": [
    "## Operaciones aritmeticas\n",
    "Python lee de izquierda a derecha \n",
    "Se puede hacer operaciones aritmeticas \n",
    "\n",
    "Suma +\n",
    "Resta -\n",
    "Multiplicacion *\n",
    "Division /\n",
    "Division entera // (el division entera no hace redondeo)\n",
    "- Si el subrayado amarillo es porque no esta declardado"
   ]
  },
  {
   "cell_type": "code",
   "execution_count": 8,
   "id": "c8d17bd8",
   "metadata": {},
   "outputs": [
    {
     "name": "stdout",
     "output_type": "stream",
     "text": [
      "35000\n",
      "30000\n",
      "5066\n"
     ]
    }
   ],
   "source": [
    "precio_total = 15000 + 20000\n",
    "print(precio_total)\n",
    "\n",
    "precio_descuento = precio_total - 5000\n",
    "print(precio_descuento)\n",
    "\n",
    "precio_gaseosa = 19000\n",
    "cantidad_persona = 15\n",
    "cantidad_gaseosa = 4\n",
    "precio_final = (precio_gaseosa * cantidad_gaseosa)\n",
    "promedio_persona = precio_final // cantidad_persona\n",
    "print(promedio_persona)\n",
    "\n"
   ]
  },
  {
   "cell_type": "markdown",
   "id": "78586001",
   "metadata": {},
   "source": [
    "## CHALLENGE 1\n"
   ]
  },
  {
   "cell_type": "code",
   "execution_count": 10,
   "id": "3706922a",
   "metadata": {},
   "outputs": [
    {
     "name": "stdout",
     "output_type": "stream",
     "text": [
      "8\n",
      "3\n"
     ]
    }
   ],
   "source": [
    "# Suma\n",
    "cantidad_de_manzanas = 5\n",
    "cantidad_de_naranjas = 3\n",
    "cantidad_de_frutas = cantidad_de_manzanas + cantidad_de_naranjas\n",
    "print(cantidad_de_frutas)\n",
    "\n",
    "# Resta\n",
    "frutas_vendidas = 5\n",
    "frutas_restantes = cantidad_de_frutas - frutas_vendidas\n",
    "print(frutas_restantes)\n",
    "\n"
   ]
  },
  {
   "cell_type": "code",
   "execution_count": 13,
   "id": "d99b7d1a",
   "metadata": {},
   "outputs": [
    {
     "name": "stdout",
     "output_type": "stream",
     "text": [
      "ManuCabello\n",
      "Hola mi nombre es Manu Cabello\n",
      "Hola mi nombre es ManuCabello\n",
      "Hola mi nombre es Manu Cabello\n"
     ]
    }
   ],
   "source": [
    "# concatenar \n",
    "nombre = \"Manu\"\n",
    "apellido = \"Cabello\"\n",
    "nombre_completo = nombre + apellido\n",
    "print(nombre_completo  )\n",
    "\n",
    "print(\"Hola mi nombre es \" + nombre + \" \" + apellido)\n",
    "print(\"Hola mi nombre es\", nombre_completo)\n",
    "print(f\"Hola mi nombre es {nombre} {apellido}\")\n"
   ]
  },
  {
   "cell_type": "markdown",
   "id": "9a91cc41",
   "metadata": {},
   "source": [
    "## Challenge 2\n",
    "La coma no une separa\n",
    "El + y la f suma\n"
   ]
  },
  {
   "cell_type": "code",
   "execution_count": 18,
   "id": "bab6d7d1",
   "metadata": {},
   "outputs": [
    {
     "name": "stdout",
     "output_type": "stream",
     "text": [
      "Hola. Me llamo Giovanni Caceres. Mucho gusto. Y soy de:  San Lorenzo\n"
     ]
    }
   ],
   "source": [
    "nombre = \"Giovanni\"\n",
    "apellido = \"Caceres\"\n",
    "ciudad = \"San Lorenzo\"\n",
    "\n",
    "#concatenamos los nombres y apellidos\n",
    "print(f'Hola. Me llamo {nombre} {apellido}. Mucho gusto. Y soy de: ', ciudad)\n",
    "\n",
    "\n",
    "\n"
   ]
  },
  {
   "cell_type": "code",
   "execution_count": 23,
   "id": "184b8f41",
   "metadata": {},
   "outputs": [
    {
     "name": "stdout",
     "output_type": "stream",
     "text": [
      "8\n",
      "<class 'int'>\n"
     ]
    }
   ],
   "source": [
    "#nombre = input(\"Cual es tu nombre: \")\n",
    "#print(nombre)\n",
    "\n",
    "numero1 = input(\"Ingrese un numero: \")\n",
    "numero2 = input(\"Ingrese otro numero: \")\n",
    "\n",
    "suma = int(numero1) + int(numero2)\n",
    "print(suma)\n",
    "\n",
    "print(type(suma))"
   ]
  },
  {
   "cell_type": "markdown",
   "id": "47c47a7c",
   "metadata": {},
   "source": [
    "## Challenge 3"
   ]
  },
  {
   "cell_type": "code",
   "execution_count": 26,
   "id": "37a52fb7",
   "metadata": {},
   "outputs": [
    {
     "name": "stdout",
     "output_type": "stream",
     "text": [
      "La suma de los numeros es: 8\n"
     ]
    }
   ],
   "source": [
    "#Challenge \n",
    "numero1 =input(\"Ingrese un numero: \")\n",
    "numero2 =input(\"Ingrese otro numero: \")\n",
    "\n",
    "suma = int(numero1) + int(numero2)\n",
    "print(\"La suma de los numeros es:\" , suma)\n"
   ]
  },
  {
   "cell_type": "markdown",
   "id": "5b8c0e2c",
   "metadata": {},
   "source": [
    "\n",
    "## Funcion\n",
    "Son un conjunto de instrucciones de una operacion que quisieramos volver a repetir en difrentes partes de nuestro programa \n",
    "El = es un operador de asignacion \n",
    ": es que lo que viene despues le pertenece a esa funcion, \"despues de estos dos puntos asigname esta funcion\""
   ]
  },
  {
   "cell_type": "code",
   "execution_count": 32,
   "id": "b7b24d4c",
   "metadata": {},
   "outputs": [
    {
     "name": "stdout",
     "output_type": "stream",
     "text": [
      "Abir el pan\n",
      "Agregar jamon\n",
      "Agregar queso\n",
      "Cerrar pan\n",
      "Listo\n",
      "Abir el pan\n",
      "Agregar jamon\n",
      "Agregar queso\n",
      "Cerrar pan\n",
      "Listo\n",
      "Abir el pan\n",
      "Agregar jamon\n",
      "Agregar queso\n",
      "Cerrar pan\n",
      "Listo\n"
     ]
    }
   ],
   "source": [
    "def preparar_sandwich():\n",
    "    print('Abir el pan') \n",
    "    print('Agregar jamon') \n",
    "    print('Agregar queso')\n",
    "    print('Cerrar pan')\n",
    "    print('Listo')\n",
    "    \n",
    "    \n",
    "preparar_sandwich()\n",
    "preparar_sandwich()\n",
    "preparar_sandwich()\n",
    "\n",
    "    "
   ]
  },
  {
   "cell_type": "markdown",
   "id": "5e603a33",
   "metadata": {},
   "source": [
    "## Challenge "
   ]
  },
  {
   "cell_type": "code",
   "execution_count": 36,
   "id": "392cf501",
   "metadata": {
    "tags": [
     "parameters"
    ]
   },
   "outputs": [
    {
     "name": "stdout",
     "output_type": "stream",
     "text": [
      "Tener amigos\n",
      "Llamar a todos tus amigos\n",
      "Ver si tienen plata y pedirles\n",
      "Ver si tienen tiempo\n",
      "Invitarles al futbolacho\n",
      "Ver donde sera la cancha\n",
      "Comprar la carne\n",
      "Guardar en tu casa la carne\n",
      "Averiguar donde hacer el asado\n",
      "Ir al lugar\n",
      "Jugar\n",
      "Tener amigos\n",
      "Llamar a todos tus amigos\n",
      "Ver si tienen plata y pedirles\n",
      "Ver si tienen tiempo\n",
      "Invitarles al futbolacho\n",
      "Ver donde sera la cancha\n",
      "Comprar la carne\n",
      "Guardar en tu casa la carne\n",
      "Averiguar donde hacer el asado\n",
      "Ir al lugar\n",
      "Jugar\n",
      "Tener amigos\n",
      "Llamar a todos tus amigos\n",
      "Ver si tienen plata y pedirles\n",
      "Ver si tienen tiempo\n",
      "Invitarles al futbolacho\n",
      "Ver donde sera la cancha\n",
      "Comprar la carne\n",
      "Guardar en tu casa la carne\n",
      "Averiguar donde hacer el asado\n",
      "Ir al lugar\n",
      "Jugar\n"
     ]
    }
   ],
   "source": [
    "#Pasos para organizar un futbolacho\n",
    "\n",
    "def futbolacho():\n",
    "    print(\"Tener amigos\")\n",
    "    print(\"Llamar a todos tus amigos\")\n",
    "    print(\"Ver si tienen plata y pedirles\")\n",
    "    print(\"Ver si tienen tiempo\")\n",
    "    print(\"Invitarles al futbolacho\")\n",
    "    print(\"Ver donde sera la cancha\")\n",
    "    print(\"Comprar la carne\")\n",
    "    print(\"Guardar en tu casa la carne\")\n",
    "    print(\"Averiguar donde hacer el asado\")\n",
    "    print(\"Ir al lugar\")\n",
    "    print(\"Jugar\")\n",
    "\n",
    "futbolacho()\n",
    "futbolacho()\n",
    "futbolacho()\n",
    "    "
   ]
  },
  {
   "cell_type": "markdown",
   "id": "9c747bfa",
   "metadata": {},
   "source": [
    "### Parametros\n",
    "Se usa cuando queremos ejecutar \"casi\" la misma funcion varias veces\n",
    "Las funciones reciben informacion de fuera y para usar esas informaciones se usan los parametros. Cuando definimos la funcion y argumentos cuando llamamos la funcion. \n",
    "El parametro es lo que espera un valor. \n",
    "Y el argumento es el valor. \n"
   ]
  },
  {
   "cell_type": "code",
   "execution_count": 39,
   "id": "33b13139",
   "metadata": {},
   "outputs": [
    {
     "name": "stdout",
     "output_type": "stream",
     "text": [
      "Abir el pan\n",
      "Agregar huevo\n",
      "Cerrar pan\n",
      "Listo\n",
      "Abir el pan\n",
      "Agregar huevo y lechuga\n",
      "Cerrar pan\n",
      "Listo\n"
     ]
    }
   ],
   "source": [
    "def preparar_sandwich(ingredientes):\n",
    "    print('Abir el pan') \n",
    "    print('Agregar', ingredientes)\n",
    "    print('Cerrar pan')\n",
    "    print('Listo')\n",
    "    \n",
    "preparar_sandwich('huevo')\n",
    "preparar_sandwich('huevo y lechuga')"
   ]
  },
  {
   "cell_type": "markdown",
   "id": "643c7352",
   "metadata": {},
   "source": [
    "## Challenge\n"
   ]
  },
  {
   "cell_type": "code",
   "execution_count": 44,
   "id": "b9d04a24",
   "metadata": {},
   "outputs": [
    {
     "name": "stdout",
     "output_type": "stream",
     "text": [
      "Ford mustang\n",
      "Turbo\n",
      "Frenos Brembo\n",
      "Motor de 400 HP\n"
     ]
    }
   ],
   "source": [
    "#Funcion que pregunta y devuele una caracteristica\n",
    "\n",
    "def compra_de_auto(caracteristica):\n",
    "    \n",
    "    print('Ford mustang')\n",
    "    print(caracteristica)\n",
    "    print('Frenos Brembo')\n",
    "    print('Motor de 400 HP')\n",
    "    \n",
    "compra_de_auto('Turbo')\n",
    "    \n",
    "\n",
    "    "
   ]
  },
  {
   "cell_type": "markdown",
   "id": "fd5e471f",
   "metadata": {},
   "source": [
    "### Fuciones predefinidas\n",
    "Alcance local, alcance global (variables)\n",
    "Los parametros son variables locales\n",
    "alcance = scope\n"
   ]
  },
  {
   "cell_type": "code",
   "execution_count": 46,
   "id": "01fc133b",
   "metadata": {},
   "outputs": [
    {
     "name": "stdout",
     "output_type": "stream",
     "text": [
      "Estoy cocinando carne\n"
     ]
    }
   ],
   "source": [
    "def preparar_comida():\n",
    "    ingrediente = 'carne'\n",
    "    print(f'Estoy cocinando {ingrediente}')\n",
    "    \n",
    "preparar_comida()"
   ]
  },
  {
   "cell_type": "code",
   "execution_count": null,
   "id": "3e8b21c0",
   "metadata": {},
   "outputs": [],
   "source": []
  }
 ],
 "metadata": {
  "kernelspec": {
   "display_name": "Python 3",
   "language": "python",
   "name": "python3"
  },
  "language_info": {
   "codemirror_mode": {
    "name": "ipython",
    "version": 3
   },
   "file_extension": ".py",
   "mimetype": "text/x-python",
   "name": "python",
   "nbconvert_exporter": "python",
   "pygments_lexer": "ipython3",
   "version": "3.13.2"
  }
 },
 "nbformat": 4,
 "nbformat_minor": 5
}

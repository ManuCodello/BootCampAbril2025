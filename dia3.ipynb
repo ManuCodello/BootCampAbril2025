{
 "cells": [
  {
   "cell_type": "markdown",
   "id": "c04d5fb8",
   "metadata": {},
   "source": [
    "## Challenge #1\n",
    "Crea una funcion que imprima la variable palabra\n",
    "    "
   ]
  },
  {
   "cell_type": "code",
   "execution_count": 4,
   "id": "5f8a5c1a",
   "metadata": {},
   "outputs": [
    {
     "name": "stdout",
     "output_type": "stream",
     "text": [
      "1\n"
     ]
    }
   ],
   "source": [
    "palabra = 1\n",
    "def imprimir_variable():\n",
    "    print(palabra)\n",
    "    \n",
    "imprimir_variable()\n"
   ]
  },
  {
   "cell_type": "code",
   "execution_count": 5,
   "id": "39be09a7",
   "metadata": {},
   "outputs": [],
   "source": [
    "#no se puede hacer print(sumar(1,2)) si es que sumar no retorna ningun valor    "
   ]
  },
  {
   "cell_type": "code",
   "execution_count": null,
   "id": "21cbbcdd",
   "metadata": {},
   "outputs": [
    {
     "name": "stdout",
     "output_type": "stream",
     "text": [
      "2\n"
     ]
    }
   ],
   "source": [
    "def sumar_numeros(n1,n2):\n",
    "    suma = n1 = n2\n",
    "    print(suma)\n",
    "    \n",
    "print(sumar_numeros(1,2))"
   ]
  },
  {
   "cell_type": "markdown",
   "id": "017bfc35",
   "metadata": {},
   "source": [
    "## Challenge\n",
    "Crear una función que reciba dos letras (parámetros) y que verifique si son iguales:\n",
    "\n",
    "Si son iguales, imprimir \"Las letras son iguales\".\n",
    "\n",
    "De lo contrario, imprimir \"Las letras son diferentes\".\n"
   ]
  },
  {
   "cell_type": "code",
   "execution_count": null,
   "id": "ac63e415",
   "metadata": {},
   "outputs": [
    {
     "name": "stdout",
     "output_type": "stream",
     "text": [
      "son iguales\n"
     ]
    }
   ],
   "source": [
    "def comparar(letra1, letra2):\n",
    "    if letra_1.lower() == letra_2.lower():\n",
    "        print(\"son iguales\")\n",
    "    else:\n",
    "        print(\"son diferentes\")\n",
    "letra_1 = input(\"ingrese la letra 1: \") \n",
    "letra_2 = input(\"ingrese la letra 2: \")\n",
    "comparar(letra_1, letra_2)\n",
    "\n",
    "\n",
    "\n",
    "#Usar los parametros y reemplazar los paramtetros con variables luego\n"
   ]
  },
  {
   "cell_type": "markdown",
   "id": "a53ad799",
   "metadata": {},
   "source": [
    "### Diferencia entra return y print \n",
    "Print es para arrojar un valor (mostrame el saldo de mi plata)\n",
    "Return arroja un valor para usarlo (sacar la plata ya)\n"
   ]
  },
  {
   "cell_type": "markdown",
   "id": "50026444",
   "metadata": {},
   "source": [
    "## Challenge #3\n",
    "Crear una función que reciba dos parámetros (una palabra y un número), y que retorne True si el número es igual a la cantidad de letras de la palabra. En caso contrario, que retorne False.\n",
    "\n",
    "Pista: cantidad de letras de una palabra en python\n"
   ]
  },
  {
   "cell_type": "code",
   "execution_count": 3,
   "id": "269ca9c4",
   "metadata": {},
   "outputs": [
    {
     "name": "stdout",
     "output_type": "stream",
     "text": [
      "No es igual\n"
     ]
    }
   ],
   "source": [
    "#funcion que comparar 2 palabras\n",
    "#definimos la funcion\n",
    "\n",
    "def comparacion(palabra1, numero1):\n",
    "    if len(palabra) == numero:\n",
    "        return True\n",
    "        print('Si es iguall')\n",
    "    else:\n",
    "        return False\n",
    "        print('No es igual')\n",
    "\n",
    "palabra = input('Escriba la palabra')\n",
    "numero = int(input('Escriba el numero'))\n",
    "\n",
    "comparacion(palabra, numero)\n",
    "\n",
    "    "
   ]
  },
  {
   "cell_type": "markdown",
   "id": "a9f405a2",
   "metadata": {},
   "source": [
    "## Challenge \n",
    "(Funcio list sirve para enlistar en palabra ingresada) \n",
    "Pedir al usuario que ingrese 1 palabra, luego convertir esa palabra a una lista con sus caracteres con list(). Agregar esa lista de caracteres a una lista llamada palabras_ingresadas. Repetir el proceso 3 veces. Cada vez que se agregue una lista de caracteres, imprimir la lista palabras_ingresadas.\n",
    "\n",
    "\n",
    "Ejemplo del resultado esperado:\n",
    "\n",
    "[['c', 'i', 'e', 'l', 'o']]\n",
    " #### Al ingresar la primera palabra\n",
    "\n",
    "[['c', 'i', 'e', 'l', 'o'], ['c', 'a', 'l', 'o', 'r']]\n",
    " #### Al ingresar la segunda palabra\n",
    "\n",
    "[['c', 'i', 'e', 'l', 'o'], ['c', 'a', 'l', 'o', 'r'], ['n', 'u', 'b', 'e', 's']]\n",
    " #### Al ingresar la tercera palabra\n",
    "\n"
   ]
  },
  {
   "cell_type": "code",
   "execution_count": null,
   "id": "a2f8aac2",
   "metadata": {},
   "outputs": [],
   "source": []
  },
  {
   "cell_type": "code",
   "execution_count": null,
   "id": "75eb406e",
   "metadata": {},
   "outputs": [],
   "source": []
  },
  {
   "cell_type": "code",
   "execution_count": 12,
   "id": "14729211",
   "metadata": {},
   "outputs": [
    {
     "name": "stdout",
     "output_type": "stream",
     "text": [
      "[['h', 'o', 'l', 'a'], ['h', 'o', 'l', 'a'], ['h', 'o', 'l', 'a']]\n"
     ]
    },
    {
     "data": {
      "text/plain": [
       "'\\nlista_de_palabra1  = list(palabra1)   \\nlista_de_palabra2  = list(palabra2)\\nlista_de_palabra3  = list(palabra3)\\n\\n\\nwhile len(listabus) <3:\\n    listabus.append(list)\\nprint(lista_de_palabra1 )\\n\\n'"
      ]
     },
     "execution_count": 12,
     "metadata": {},
     "output_type": "execute_result"
    }
   ],
   "source": [
    "# separar el lista paralabras y anhadir a una lista\n",
    "\n",
    "\n",
    "\n",
    "listabus = []\n",
    "while len(listabus) < 3:\n",
    "    palabra = input('Ingresa la palabra')\n",
    "    listabus.append(list(palabra))\n",
    "    \n",
    "print(listabus)\n",
    "    \n",
    "\n"
   ]
  },
  {
   "cell_type": "code",
   "execution_count": 36,
   "id": "fea677a8",
   "metadata": {},
   "outputs": [],
   "source": [
    "#crear una funcion que contenga 2 parametros\n",
    "\n",
    "def obtener_fila_verificada(palabra_a_encontrar, palabra_ingresada):\n",
    "    #segundo paso: definir la cantidad de letras de la palabra a encontrar\n",
    "    cantidad_de_letras_de_la_palabra_a_encontrar = 5\n",
    "    \n",
    "    #tercer paso crear una lista vacia para guardar las letras verificadas \n",
    "    letras_verificadas = []\n",
    "    \n",
    "    #cuarto paso: se recorre cada posicion de la palabra \n",
    "    for posicion in range(cantidad_de_letras_de_la_palabra_a_encontrar):\n",
    "        #quinto paso: comaparar las letras en la misma posicion \n",
    "        las_letras_son_iguales =  palabra_a_encontrar[posicion] == palabra_ingresada[posicion]\n",
    "        \n",
    "        #sexto paso: verifica si la letra existe en la palabra \n",
    "        la_letra_existe_enla_palabra = palabra_ingresada[posicion] in palabra_a_encontrar\n",
    "        \n",
    "        if las_letras_son_iguales:\n",
    "            letras_verificadas.append('[' + palabra_ingresada[posicion] + ']')\n",
    "        elif la_letra_existe_enla_palabra:\n",
    "            letras_verificadas.append('(' + palabra_ingresada[posicion] + ')')\n",
    "        else:\n",
    "            letras_verificadas.append(palabra_ingresada[posicion])\n",
    "    return letras_verificadas\n",
    "        \n"
   ]
  },
  {
   "cell_type": "code",
   "execution_count": 37,
   "id": "99b61273",
   "metadata": {},
   "outputs": [
    {
     "name": "stdout",
     "output_type": "stream",
     "text": [
      "['c', '[u]', '[e]', '[v]', 'a']\n"
     ]
    }
   ],
   "source": [
    "\n",
    "palabra_a_encontrar = 'huevo'\n",
    "palabra_secreta = input('Ingresa una palabra de 5 letras')\n",
    "\n",
    "linea_verificada = obtener_fila_verificada(palabra_a_encontrar, palabra_secreta)\n",
    "print(linea_verificada)\n"
   ]
  },
  {
   "cell_type": "markdown",
   "id": "64021fb2",
   "metadata": {},
   "source": [
    "## Challenge 6#\n",
    "Dada la lista de ejemplo: \n",
    "\n",
    "lista = [['h', 'o', 'l', 'i', 's'], ['h', 'e', 'l', 'l', 'o'], ['h', 'a', 'l', 'l', 'o']]\n",
    "\n",
    "Crear una función que imprima una grilla (lista de listas), una línea por cada lista dentro de la lista principal.\n",
    "\n",
    "Ejemplo del resultado esperado:\n",
    "\n",
    "['h', 'o', 'l', 'i', 's']\n",
    "['h', 'e', 'l', 'l', 'o']\n",
    "['h', 'a', 'l', 'l', 'o']\n"
   ]
  },
  {
   "cell_type": "code",
   "execution_count": 29,
   "id": "f34445b3",
   "metadata": {},
   "outputs": [
    {
     "name": "stdout",
     "output_type": "stream",
     "text": [
      "['h', 'o', 'l', 'i', 's']\n",
      "['h', 'e', 'l', 'l', 'o']\n",
      "['h', 'a', 'l', 'l', 'o']\n"
     ]
    }
   ],
   "source": [
    "#separador de listas\n",
    "listas = [['h', 'o', 'l', 'i', 's'], ['h', 'e', 'l', 'l', 'o'], ['h', 'a', 'l', 'l', 'o']]\n",
    "\n",
    "def separador():\n",
    "    for lista in listas:\n",
    "        print(lista)\n",
    "        \n",
    "separador()\n",
    "\n",
    "def enlistador(posicion):\n",
    "    listas[0] = 1\n",
    "    listas[1] = 2\n",
    "    listas[2] = 3\n",
    "    for lista in listas:\n",
    "        print(lista)\n",
    "    \n",
    "    \n"
   ]
  },
  {
   "cell_type": "code",
   "execution_count": null,
   "id": "c8c307de",
   "metadata": {},
   "outputs": [],
   "source": []
  },
  {
   "cell_type": "code",
   "execution_count": 34,
   "id": "82b5b164",
   "metadata": {},
   "outputs": [
    {
     "name": "stdout",
     "output_type": "stream",
     "text": [
      "Te quedan 3 intentos\n",
      "Te quedan 2 intentos\n",
      "Te quedan 1 intentos\n",
      "Te quedaste sin intentos\n"
     ]
    }
   ],
   "source": [
    "intentos = 3\n",
    "while intentos > 0:\n",
    "    print(f'Te quedan {intentos} intentos')\n",
    "    palabra = input('Ingrese la palabra')\n",
    "    intentos -=1\n",
    "print('Te quedaste sin intentos')\n",
    "    "
   ]
  },
  {
   "cell_type": "markdown",
   "id": "c125a0a1",
   "metadata": {},
   "source": [
    "## Wordle\n",
    "Juego\n",
    "\n",
    "Definir palabra a encontrar\n",
    "Definir cantidad de palabras \n",
    "Definir intentos\n",
    "Crear grilla vacia (lsita para mostrar el progreso del jugador)\n",
    "Mostrar mensaje de bienvenida"
   ]
  },
  {
   "cell_type": "code",
   "execution_count": 46,
   "id": "1becac90",
   "metadata": {},
   "outputs": [
    {
     "name": "stdout",
     "output_type": "stream",
     "text": [
      "Te quedan 6 intentos\n",
      "['h']\n",
      "Te quedan 5 intentos\n",
      "['h']\n",
      "Te quedan 4 intentos\n",
      "['h']\n",
      "Te quedan 3 intentos\n",
      "['h']\n",
      "Te quedan 2 intentos\n"
     ]
    },
    {
     "ename": "IndexError",
     "evalue": "string index out of range",
     "output_type": "error",
     "traceback": [
      "\u001b[31m---------------------------------------------------------------------------\u001b[39m",
      "\u001b[31mIndexError\u001b[39m                                Traceback (most recent call last)",
      "\u001b[36mCell\u001b[39m\u001b[36m \u001b[39m\u001b[32mIn[46]\u001b[39m\u001b[32m, line 41\u001b[39m\n\u001b[32m     39\u001b[39m palabra_a_encontrar = \u001b[38;5;28minput\u001b[39m(\u001b[33m'\u001b[39m\u001b[33mIngresa una palabra de 5 letras\u001b[39m\u001b[33m'\u001b[39m)\n\u001b[32m     40\u001b[39m palabra_secreta.lower()\n\u001b[32m---> \u001b[39m\u001b[32m41\u001b[39m linea_verificada = \u001b[43mobtener_fila_verificada\u001b[49m\u001b[43m(\u001b[49m\u001b[43mpalabra_a_encontrar\u001b[49m\u001b[43m,\u001b[49m\u001b[43m \u001b[49m\u001b[43mpalabra_secreta\u001b[49m\u001b[43m)\u001b[49m\n\u001b[32m     42\u001b[39m \u001b[38;5;28mprint\u001b[39m(linea_verificada)\n\u001b[32m     44\u001b[39m intentos = intentos -\u001b[32m1\u001b[39m\n",
      "\u001b[36mCell\u001b[39m\u001b[36m \u001b[39m\u001b[32mIn[46]\u001b[39m\u001b[32m, line 18\u001b[39m, in \u001b[36mobtener_fila_verificada\u001b[39m\u001b[34m(palabra_a_encontrar, palabra_secreta)\u001b[39m\n\u001b[32m     15\u001b[39m \u001b[38;5;66;03m#cuarto paso: se recorre cada posicion de la palabra \u001b[39;00m\n\u001b[32m     16\u001b[39m \u001b[38;5;28;01mfor\u001b[39;00m posicion \u001b[38;5;129;01min\u001b[39;00m \u001b[38;5;28mrange\u001b[39m(cantidad_de_letras_de_la_palabra_a_encontrar):\n\u001b[32m     17\u001b[39m     \u001b[38;5;66;03m#quinto paso: comaparar las letras en la misma posicion \u001b[39;00m\n\u001b[32m---> \u001b[39m\u001b[32m18\u001b[39m     las_letras_son_iguales =  \u001b[43mpalabra_a_encontrar\u001b[49m\u001b[43m[\u001b[49m\u001b[43mposicion\u001b[49m\u001b[43m]\u001b[49m == palabra_secreta[posicion]\n\u001b[32m     20\u001b[39m     \u001b[38;5;66;03m#sexto paso: verifica si la letra existe en la palabra \u001b[39;00m\n\u001b[32m     21\u001b[39m     la_letra_existe_enla_palabra = palabra_secreta[posicion] \u001b[38;5;129;01min\u001b[39;00m palabra_a_encontrar\n",
      "\u001b[31mIndexError\u001b[39m: string index out of range"
     ]
    }
   ],
   "source": [
    "# juego de wordle\n",
    "\n",
    "# inputs del juego \n",
    "# vamos a tener un matriz de 6*5\n",
    "# Tenemos 6 listas vacias\n",
    "# Tenemos una palabra 5 caracteres \n",
    "\n",
    "def obtener_fila_verificada(palabra_a_encontrar, palabra_secreta):\n",
    "    #segundo paso: definir la cantidad de letras de la palabra a encontrar\n",
    "    cantidad_de_letras_de_la_palabra_a_encontrar = 5\n",
    "    \n",
    "    #tercer paso crear una lista vacia para guardar las letras verificadas \n",
    "    letras_verificadas = []\n",
    "    \n",
    "    #cuarto paso: se recorre cada posicion de la palabra \n",
    "    for posicion in range(cantidad_de_letras_de_la_palabra_a_encontrar):\n",
    "        #quinto paso: comaparar las letras en la misma posicion \n",
    "        las_letras_son_iguales =  palabra_a_encontrar[posicion] == palabra_secreta[posicion]\n",
    "        \n",
    "        #sexto paso: verifica si la letra existe en la palabra \n",
    "        la_letra_existe_enla_palabra = palabra_secreta[posicion] in palabra_a_encontrar\n",
    "        \n",
    "        if las_letras_son_iguales:\n",
    "            letras_verificadas.append('('+ palabra_secreta[posicion] + ' )Coincide con posicion')\n",
    "        elif la_letra_existe_enla_palabra:\n",
    "            letras_verificadas.append('('+ palabra_secreta[posicion] + ' )Coincide pero no la posicion')\n",
    "        else:\n",
    "            letras_verificadas.append(palabra_secreta[posicion])\n",
    "        \n",
    "        \n",
    "    return letras_verificadas\n",
    "\n",
    "intentos = 6\n",
    "while intentos > 0:\n",
    "    print(f'Te quedan {intentos} intentos')    \n",
    "    palabra_secreta = 'huevo'\n",
    "    \n",
    "    palabra_a_encontrar = input('Ingresa una palabra de 5 letras')\n",
    "    palabra_secreta.lower()\n",
    "    linea_verificada = obtener_fila_verificada(palabra_a_encontrar, palabra_secreta)\n",
    "    print(linea_verificada)\n",
    "    \n",
    "    intentos = intentos -1\n",
    "print('Te quedaste sin intentos')\n",
    "\n",
    "        \n",
    "\n"
   ]
  },
  {
   "cell_type": "code",
   "execution_count": 5,
   "id": "06e498c4",
   "metadata": {},
   "outputs": [
    {
     "name": "stdout",
     "output_type": "stream",
     "text": [
      "Bienvenido al juego. Hay una palabra secreta de 5 letras, la cual tenes que intentar adivinar. Tranqui que a medida que vayas intentando, te vamos a dar pistas. TENES 6 INTENTOS, no los desperdicies.Las pistas son las siguientes:- Las letras que esten en (), significa que la letra esta en la palabra, pero no en esa posicion- Las letras que esten en [], significa que la letra esta en la posicion correcta.- Las que no tengan nada, significa que la palabra no esta en la palabra.Exitos!!\n",
      "Te quedan 6 intentos.\n",
      "['[r]', '[o]', 'j', '(o)', '[s]']\n",
      "Te quedan 5 intentos.\n",
      "Felicidades, ganaste!! La palabra secreta era rojos\n",
      "['[r]', '[o]', '[j]', '[o]', '[s]']\n",
      "Te quedaste sin intentos.\n"
     ]
    }
   ],
   "source": [
    "print(\"Bienvenido al juego. Hay una palabra secreta de 5 letras, la cual tenes que intentar adivinar. Tranqui que a medida que vayas intentando, te vamos a dar pistas. TENES 6 INTENTOS, no los desperdicies.\" \\\n",
    "\"Las pistas son las siguientes:\" \\\n",
    "\"- Las letras que esten en (), significa que la letra esta en la palabra, pero no en esa posicion\" \\\n",
    "\"- Las letras que esten en [], significa que la letra esta en la posicion correcta.\" \\\n",
    "\"- Las que no tengan nada, significa que la palabra no esta en la palabra.\" \\\n",
    "\"Exitos!!\")\n",
    "\n",
    "\n",
    "\n",
    "\n",
    "cantidad_de_letras = 5\n",
    "\n",
    "def verificador_de_letras_y_posiciones (palabra_secreta,intento_adivinanza):\n",
    "    lista_almacenamiento_palabras = []\n",
    "    for posicion in range(cantidad_de_letras):\n",
    "\n",
    "        letras_iguales = palabra_secreta[posicion] == intento_adivinanza[posicion]\n",
    "        \n",
    "        existencia_letra = palabra_secreta[posicion] in intento_adivinanza\n",
    "\n",
    "        if letras_iguales:\n",
    "            lista_almacenamiento_palabras.append(palabra_secreta[posicion])\n",
    "        elif existencia_letra:\n",
    "            lista_almacenamiento_palabras.append(palabra_secreta[posicion])\n",
    "        else:\n",
    "            lista_almacenamiento_palabras.append(palabra_secreta[posicion])\n",
    "    return lista_almacenamiento_palabras\n",
    "\n",
    "def verificador_de_letras_y_posiciones_mostrar (palabra_secreta,intento_adivinanza):\n",
    "    lista_almacenamiento_palabras_mostrar = []\n",
    "    for posicion in range(cantidad_de_letras):\n",
    "\n",
    "        letras_iguales = palabra_secreta[posicion] == intento_adivinanza[posicion]\n",
    "        \n",
    "        existencia_letra = palabra_secreta[posicion] in intento_adivinanza\n",
    "\n",
    "        if letras_iguales:\n",
    "            lista_almacenamiento_palabras_mostrar.append(\"[\" + palabra_secreta[posicion] + \"]\")\n",
    "        elif existencia_letra:\n",
    "            lista_almacenamiento_palabras_mostrar.append(\"(\" + palabra_secreta[posicion] + \")\")\n",
    "        else:\n",
    "            lista_almacenamiento_palabras_mostrar.append(palabra_secreta[posicion])\n",
    "    return lista_almacenamiento_palabras_mostrar\n",
    "\n",
    "def verificador_de_victoria(palabra_secreta,intento_adivinanza):\n",
    "    lista_almacenamiento_victoria = []\n",
    "\n",
    "    for posicion in range(cantidad_de_letras):\n",
    "        if palabra_secreta[posicion] == intento_adivinanza[posicion]:\n",
    "            lista_almacenamiento_victoria.append(palabra_secreta[posicion])\n",
    "    return lista_almacenamiento_victoria\n",
    "    \n",
    "    \n",
    "intentos = 6\n",
    "palabra_secreta = input(\"Ingrese una palabra secreta de 5 letras para el juego.\")\n",
    "palabra_secreta = palabra_secreta.lower()\n",
    "while intentos > 0 and len(palabra_secreta) == 5:\n",
    "    print(f\"Te quedan {intentos} intentos.\")\n",
    "    \n",
    "    intento_adivinanza = input(\"Ingrese una palabra de 5 letras que tenes que adivinar:\")\n",
    "    intento_adivinanza = intento_adivinanza.lower()\n",
    "    intentos = intentos -1\n",
    "\n",
    "    if verificador_de_victoria(palabra_secreta, intento_adivinanza) == verificador_de_letras_y_posiciones(palabra_secreta, intento_adivinanza):\n",
    "        print(f\"Felicidades, ganaste!! La palabra secreta era {palabra_secreta}\")\n",
    "        verificador_variable = verificador_de_letras_y_posiciones_mostrar(palabra_secreta, intento_adivinanza)\n",
    "        print(verificador_variable)\n",
    "        break\n",
    "    else:\n",
    "        \n",
    "        verificador_variable = verificador_de_letras_y_posiciones_mostrar(palabra_secreta, intento_adivinanza)\n",
    "        print(verificador_variable)\n",
    "        \n",
    "print(\"Te quedaste sin intentos.\")\n"
   ]
  }
 ],
 "metadata": {
  "kernelspec": {
   "display_name": "Python 3",
   "language": "python",
   "name": "python3"
  },
  "language_info": {
   "codemirror_mode": {
    "name": "ipython",
    "version": 3
   },
   "file_extension": ".py",
   "mimetype": "text/x-python",
   "name": "python",
   "nbconvert_exporter": "python",
   "pygments_lexer": "ipython3",
   "version": "3.13.2"
  }
 },
 "nbformat": 4,
 "nbformat_minor": 5
}

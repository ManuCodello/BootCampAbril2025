{
 "cells": [
  {
   "cell_type": "markdown",
   "id": "829016ce",
   "metadata": {},
   "source": [
    "## Diccionario \n",
    "- Es una coleccion de pares formado por una clave y un valor asociado a una clave. \n",
    "Se Caracteriza por\n",
    "- No tienen orden\n",
    "- Pueden coneter elementos distintos\n",
    "- Son mutables\n",
    "- Pueden ser cualquier tipo de dato\n",
    "- Las claves son unicas "
   ]
  },
  {
   "cell_type": "code",
   "execution_count": 2,
   "id": "9fbd3006",
   "metadata": {},
   "outputs": [
    {
     "name": "stdout",
     "output_type": "stream",
     "text": [
      "{'nombre': 'Juan', 'Apellido': 'Gomez', 'Celular': 9811111111, 'edad': 25}\n"
     ]
    }
   ],
   "source": [
    "# Ejemplo de diccionario \n",
    "mi_contacto = {\"nombre\": \"Juan\", \"Apellido\": \"Gomez\", \"Celular\": 9811111111, \"edad\": 25, }\n",
    "\n",
    "print(mi_contacto)"
   ]
  },
  {
   "cell_type": "code",
   "execution_count": null,
   "id": "a298a067",
   "metadata": {},
   "outputs": [],
   "source": [
    "# para que se vea mas ordenado\n",
    "\n",
    "mi_contacto = {\n",
    "    \"nombre\": \"Juan\", \n",
    "    \"Apellido\": \"Gomez\", \n",
    "    \"Celular\": 9811111111, \n",
    "    \"edad\": 25, \n",
    "    }"
   ]
  },
  {
   "cell_type": "code",
   "execution_count": null,
   "id": "c701df77",
   "metadata": {},
   "outputs": [
    {
     "name": "stdout",
     "output_type": "stream",
     "text": [
      "{'nombre': 'Pedro', 'Apellido': 'Gomez', 'Celular': 9811111111, 'edad': 25, 'Direccion': 'Av. Lima 123'}\n",
      "{'nombre': 'Pedro', 'Apellido': 'Gomez', 'Celular': 9811111111, 'edad': 25}\n",
      "{'nombre': 'Pedro', 'Apellido': 'Gomez', 'edad': 25}\n"
     ]
    }
   ],
   "source": [
    "#Acceder al dato del diccionario\n",
    "# la termianl WSL\n",
    "mi_contacto[\"nombre\"] \n",
    "\n",
    "#Desplegar datos de deicciolnario\n",
    "mi_contacto.keys() #llave\n",
    "mi_contacto.values() #valor\n",
    "mi_contacto.items() #llave y valor\n",
    "\n",
    "#Actualizar los datos del diccionario\n",
    "mi_contacto[\"nombre\"] = \"Pedro\"\n",
    "mi_contacto[\"Direccion\"] = \"Av. Lima 123\"\n",
    "print(mi_contacto)\n",
    "\n",
    "#eliminar ultimo par \n",
    "mi_contacto.popitem()\n",
    "print(mi_contacto)\n",
    "#eliminar un par especifico\n",
    "mi_contacto.pop(\"Celular\")\n",
    "print(mi_contacto)\n",
    "\n",
    "#eliminar todo el diccionario\n",
    "#mi_contacto.clear()\n",
    "print(mi_contacto)\n",
    "#eliminar el diccionario    \n",
    "#del mi_contacto\n",
    "\n"
   ]
  },
  {
   "cell_type": "markdown",
   "id": "f0ad2b13",
   "metadata": {},
   "source": [
    "### Las tuplas son listas que no se pueden modificar\n"
   ]
  },
  {
   "cell_type": "markdown",
   "id": "9299baa5",
   "metadata": {},
   "source": [
    "## Challenge #1\n",
    "Escribir un programa que cree un diccionario vacío y lo vaya llenado con información sobre una persona (por ejemplo nombre, edad, sexo, teléfono, correo electrónico, etc.) que se le pida al usuario. Cada vez que se añada un nuevo dato debe imprimirse el contenido del diccionario.\n"
   ]
  },
  {
   "cell_type": "code",
   "execution_count": null,
   "id": "9d5d3608",
   "metadata": {},
   "outputs": [
    {
     "name": "stdout",
     "output_type": "stream",
     "text": [
      "{'nombre': 'manu', 'sexo': 'hombre', 'edad': '22', 'telefono': '0981821', 'correo': 'manucabbelogamil.com'}\n"
     ]
    }
   ],
   "source": [
    "#inputs declarando primero\n",
    "\n",
    "nombre = input(\"Ingrese nombre\")\n",
    "sexo = input(\"Ingrese sexo\")\n",
    "edad = input(\"Ingrese edad\")\n",
    "telefono = input(\"Ingrese telefono\")\n",
    "correo = input(\"Ingrese correo\")\n",
    "\n",
    "dato_persona = {\"nombre\": nombre,\n",
    "                \"sexo\": sexo,\n",
    "                \"edad\" : edad,\n",
    "                \"telefono\": telefono,\n",
    "                \"correo\": correo \n",
    "                }\n",
    "\n",
    "print(dato_persona)\n",
    "\n"
   ]
  },
  {
   "cell_type": "code",
   "execution_count": 8,
   "id": "f2efe205",
   "metadata": {},
   "outputs": [
    {
     "name": "stdout",
     "output_type": "stream",
     "text": [
      "{'nombre': '', 'sexo': '', 'edad': '', 'telefono': '', 'correo': ''}\n"
     ]
    }
   ],
   "source": [
    "dato_persona2 = {\"nombre\": input(\"Ingrese nombre\"),\n",
    "                \"sexo\": input(\"Ingrese sexo\"),\n",
    "                \"edad\" : input(\"Ingrese edad\"),\n",
    "                \"telefono\": input(\"Ingrese telefono\"),\n",
    "                \"correo\": input(\"Ingrese correo\") \n",
    "                }\n",
    "\n",
    "print(dato_persona2)"
   ]
  },
  {
   "cell_type": "markdown",
   "id": "7bf6e0d0",
   "metadata": {},
   "source": [
    "## Si necesito hacer una consulta buscar metodos para diccionarios en python"
   ]
  },
  {
   "cell_type": "code",
   "execution_count": null,
   "id": "364c6cea",
   "metadata": {},
   "outputs": [
    {
     "name": "stdout",
     "output_type": "stream",
     "text": [
      "manu\n",
      "hombre\n",
      "22\n",
      "3094872\n",
      "manableads\n"
     ]
    }
   ],
   "source": [
    "\n",
    "#tercera forma de hacer usando los metodos\n",
    "nombre = input(\"Ingrese nombre\")\n",
    "sexo = input(\"Ingrese sexo\")\n",
    "edad = input(\"Ingrese edad\")\n",
    "telefono = input(\"Ingrese telefono\")\n",
    "correo = input(\"Ingrese correo\")\n",
    "\n",
    "dato_persona3 = {}\n",
    "dato_persona3[\"nombre\"] = nombre\n",
    "print(dato_persona3[\"nombre\"])\n",
    "dato_persona3[\"sexo\"] = sexo\n",
    "print(dato_persona3[\"sexo\"])\n",
    "dato_persona3[\"edad\"] = edad\n",
    "print(dato_persona3[\"edad\"])\n",
    "dato_persona3[\"telefono\"] = telefono\n",
    "print(dato_persona3[\"telefono\"])\n",
    "dato_persona3[\"correo\"] = correo\n",
    "print(dato_persona3[\"correo\"])\n",
    "\n",
    "#se puede poner el input directamente luego de las claves\n",
    "#Verificar el cumplimiento correcto y literal del diccionario \n"
   ]
  },
  {
   "cell_type": "markdown",
   "id": "0afa859d",
   "metadata": {},
   "source": [
    "## Challenge #2\n",
    "\n",
    "Crear una tarjeta personal. El usuario (mediante input) puede elegir:\n",
    "\n",
    "Crear datos nuevos\n",
    "Modificar datos\n",
    "Eliminar datos"
   ]
  },
  {
   "cell_type": "code",
   "execution_count": null,
   "id": "0a55d3d8",
   "metadata": {},
   "outputs": [
    {
     "name": "stdout",
     "output_type": "stream",
     "text": [
      "{'': 'nombre'}\n",
      "{'': 'nombre', 'manu': ''}\n"
     ]
    }
   ],
   "source": [
    "#crear tarjetea personal\n",
    "# el usuario debe introducir datos nuevos con clave y datos de la clave\n",
    "# el programa debe verificar que no se repitan las claves\n",
    "# si se repiten las claves el programa debe pedir al usuario que ingrese una nueva clave    \n",
    "# si el usuario ingresa una clave vacia, el programa debe terminar\n",
    "# el programa debe imprimir la tarjeta personal con los datos ingresados por el usuario\n",
    "# el programa debe preguntar si quiere modicar un dato\n",
    "# debe imprimir la tarjeta actualizada\n",
    "# el programa debe preguntar si quiere eliminar un dato\n",
    "# debe imprimir la tarjeta actualizada\n",
    "\n",
    "#definimos las funciones a utilizar\n",
    "\n",
    "\n",
    "\n",
    "        \n",
    "# Esto es más directo y hace exactamente lo que necesitás: devuelve True si la clave no está en el diccionario.\n",
    "\n",
    "tarjeta = {}\n",
    "while True:\n",
    "    \n",
    "        clave = input('Ingrese una clave')\n",
    "        dato_clave = input('Ingrese una Dato de la clave')\n",
    "        tarjeta[clave] = dato_clave\n",
    "         \n",
    "        print(tarjeta)\n",
    "    \n",
    "        options = input('Si desea agregar mas opciones escribe 1, si desea modificar escribe la clave que desea modificar, y si desea eliminar escribe la clave + \"Eliminar')\n",
    "        if options.lower() == \"1\":\n",
    "            clave = input('Ingrese una nueva clave')\n",
    "            dato_clave = input('Ingrese un dato de la clave nueva')\n",
    "            tarjeta[clave] = dato_clave\n",
    "            #aca maybe puedo necesitar algo\n",
    "            #agrego la clave al diccionario \n",
    "            tarjeta[clave] = dato_clave\n",
    "            print('Esta es tu tarjeta actualizada', tarjeta)\n",
    "            if tarjeta[clave] in tarjeta: \n",
    "                    print('So bobo, ya tenes ese dato')\n",
    "            continue\n",
    "        elif options.lower() == \"Modificar\":\n",
    "            eliminar = input('Ingrese la clave a eliminar')\n",
    "            eliminar = clave\n",
    "            tarjeta.pop(clave)\n",
    "            print(eliminar, 'Fue eliminado')\n",
    "            print('Esta es tu tarjeta actualizada', tarjeta)\n",
    "        elif options.lower() == \"Modificar\":\n",
    "            dato = input('Ingrese la clave nueva')\n",
    "            tarjeta[dato] == clave \n",
    "            print('Esta es tu tarjeta actualizada', tarjeta)\n",
    "        elif options == ' ':\n",
    "            break\n",
    "print(tarjeta, 'Esta es tu tarjeta')\n",
    "    "
   ]
  },
  {
   "cell_type": "code",
   "execution_count": null,
   "id": "687f110e",
   "metadata": {},
   "outputs": [
    {
     "name": "stdout",
     "output_type": "stream",
     "text": [
      "{'nombre': '3'}\n",
      "{'nombre': 'manu'}\n"
     ]
    },
    {
     "ename": "ValueError",
     "evalue": "invalid literal for int() with base 10: ''",
     "output_type": "error",
     "traceback": [
      "\u001b[31m---------------------------------------------------------------------------\u001b[39m",
      "\u001b[31mValueError\u001b[39m                                Traceback (most recent call last)",
      "\u001b[36mCell\u001b[39m\u001b[36m \u001b[39m\u001b[32mIn[2]\u001b[39m\u001b[32m, line 4\u001b[39m\n\u001b[32m      1\u001b[39m tarjeta = {}\n\u001b[32m      3\u001b[39m \u001b[38;5;28;01mwhile\u001b[39;00m \u001b[38;5;28;01mTrue\u001b[39;00m:\n\u001b[32m----> \u001b[39m\u001b[32m4\u001b[39m     seleccion = \u001b[38;5;28;43mint\u001b[39;49m\u001b[43m(\u001b[49m\u001b[38;5;28;43minput\u001b[39;49m\u001b[43m(\u001b[49m\u001b[33;43m'\u001b[39;49m\u001b[33;43mingrese una opcion: 1- Crear, 2. Modificar, 3-Eliminar, 4. Salir\u001b[39;49m\u001b[33;43m'\u001b[39;49m\u001b[43m)\u001b[49m\u001b[43m)\u001b[49m\n\u001b[32m      5\u001b[39m     \u001b[38;5;28;01mif\u001b[39;00m seleccion ==\u001b[32m1\u001b[39m:\n\u001b[32m      6\u001b[39m         clave = \u001b[38;5;28minput\u001b[39m(\u001b[33m'\u001b[39m\u001b[33mingrese la clave\u001b[39m\u001b[33m'\u001b[39m)\n",
      "\u001b[31mValueError\u001b[39m: invalid literal for int() with base 10: ''"
     ]
    }
   ],
   "source": [
    "tarjeta = {}\n",
    "\n",
    "while True:\n",
    "    seleccion = int(input('ingrese una opcion: 1- Crear, 2. Modificar, 3-Eliminar, 4. Salir'))\n",
    "    if seleccion ==1:\n",
    "        clave = input('ingrese la clave')\n",
    "        valor = input('ingrese la valor')\n",
    "        tarjeta[clave]=valor\n",
    "        print(tarjeta)\n",
    "    elif seleccion==2:\n",
    "        tarjeta.keys()\n",
    "        clave = input('ingrese la clave')\n",
    "        valor = input('ingrese la valor')\n",
    "        tarjeta[clave]=valor\n",
    "        print(tarjeta)\n",
    "        \n",
    "    elif seleccion==3:\n",
    "        tarjeta.keys()\n",
    "        clave = input('Ingres un valor a eliminar')\n",
    "        del tarjeta[clave]\n",
    "    elif seleccion == 4:\n",
    "        print('Gracias por todo')\n",
    "        break\n",
    "    else:\n",
    "        print('La opcion es ingresada no es valida')    \n",
    "    "
   ]
  },
  {
   "cell_type": "markdown",
   "id": "d2ebd44f",
   "metadata": {},
   "source": [
    "## Challenge #3\n",
    "Crear una agenda de contactos. El usuario puede elegir:\n",
    "1. Mostrar los contactos\n",
    "2. Crear contacto\n",
    "3. Modoficar datos del contacto\n"
   ]
  },
  {
   "cell_type": "code",
   "execution_count": null,
   "id": "e04aad93",
   "metadata": {},
   "outputs": [],
   "source": [
    "contacto = {}\n",
    "nombre = input('Ingrese nombre')\n",
    "numero = input('Ingrese numero')\n",
    "contacto{}\n",
    "\n",
    "\n",
    "\n",
    "while True:\n",
    "    \n",
    "    if seleccion ==1:\n",
    "        nombre = input('ingrese nombre')\n",
    "        numero = input('ingrese el numero')\n",
    "        contacto[nombre] = numero\n",
    "        \n",
    "        print(contacto)"
   ]
  },
  {
   "cell_type": "markdown",
   "id": "9edccb3a",
   "metadata": {},
   "source": [
    "## POO\n",
    "Los objetos tienen atributos(caracterustucas y propiedades ) como sus metodos(funciones que nos permiten ineractuar con el objeto) se definen en clase\n",
    "\n"
   ]
  },
  {
   "cell_type": "code",
   "execution_count": 5,
   "id": "e108a1dc",
   "metadata": {},
   "outputs": [
    {
     "name": "stdout",
     "output_type": "stream",
     "text": [
      "2\n",
      "2\n"
     ]
    }
   ],
   "source": [
    "class perro():\n",
    "    patas =4\n",
    "    ojos =2\n",
    "    \n",
    "firulais = perro()\n",
    "peter = perro()\n",
    "\n",
    "\n",
    "print(firulais.ojos)\n",
    "print(peter.ojos)\n",
    "\n"
   ]
  },
  {
   "cell_type": "code",
   "execution_count": null,
   "id": "222aca15",
   "metadata": {},
   "outputs": [],
   "source": [
    "class Perro():\n",
    "    patas =4\n",
    "    ojos =2\n",
    "    def _init_(self, color, raza): #init se llama bloque constructor, \n",
    "        self.color = color\n",
    "        self.raza = raza\n",
    "        "
   ]
  },
  {
   "cell_type": "code",
   "execution_count": null,
   "id": "349d397f",
   "metadata": {},
   "outputs": [],
   "source": [
    "\n",
    "class Perro():\n",
    "#atrubytis de clase\n",
    "    patas =4\n",
    "    ojos =2\n",
    "    #atributos de instancia\n",
    "    def _init_(self, color, raza): #init se llama bloque constructor, \n",
    "        self.color = color\n",
    "        self.raza = raza\n",
    "    #atributos de metodos, acciones que realizan nuestro objeto\n",
    "    def ladrino(self):\n",
    "        return ('Guau')\n",
    "    def caminar(self):\n",
    "        return('Caminar hacia delante')      \n",
    "#instanciar el metodo\n",
    "ywailer = Perro('negro', 'caniche')  \n",
    "\n",
    "print(ywailer.caminar())\n"
   ]
  },
  {
   "cell_type": "markdown",
   "id": "fdd57b25",
   "metadata": {},
   "source": [
    "## Challenge #4\n",
    "Crear dos métodos para nuestro animal y ejecutar, debe ser algo específico de ese animal.\n",
    "\n",
    "Ejemplo: \"Cuando hablo, digo X\".\n",
    "Ejemplo: \"Cuando me muevo, hago X\".\n"
   ]
  },
  {
   "cell_type": "code",
   "execution_count": 14,
   "id": "1aff8e37",
   "metadata": {},
   "outputs": [
    {
     "name": "stdout",
     "output_type": "stream",
     "text": [
      "Holaa(en miau)\n"
     ]
    }
   ],
   "source": [
    "class Gato():\n",
    "    orejas =2 \n",
    "    patas=4\n",
    "    tipo = \"felino\"\n",
    "    def __init__(self, color, tamanho):\n",
    "        self.color = color\n",
    "        self.tamanho = tamanho\n",
    "    def maulla(self):\n",
    "        return ('Holaa(en miau)')\n",
    "    def sonido(self):\n",
    "        return('Ronronea fuerte')\n",
    "    def salta(self):\n",
    "        return ('Saltaa alto')\n",
    "eldestructordesofas = Gato('blanco', 'grande')\n",
    "\n",
    "print(f'{eldestructordesofas.maulla()}')\n",
    "\n",
    "    "
   ]
  },
  {
   "cell_type": "markdown",
   "id": "2778a0a8",
   "metadata": {},
   "source": [
    "## Herencias\n",
    "Es una relacion entre clases, heredan atributos y metodos de otra clase\n"
   ]
  },
  {
   "cell_type": "code",
   "execution_count": null,
   "id": "e0f17bd3",
   "metadata": {},
   "outputs": [
    {
     "data": {
      "text/plain": [
       "'Holaa(en miau)'"
      ]
     },
     "execution_count": 16,
     "metadata": {},
     "output_type": "execute_result"
    }
   ],
   "source": [
    "#si voy a heredar una clase de una clase padre pongo parentesis\n",
    "class Gatito(Gato):\n",
    "    cola = 1\n",
    "    \n",
    "    def jugar(self):\n",
    "        return 'Gato jugando'\n",
    "\n",
    "michi = Gatito('gris', 'peguenho', )\n",
    "\n",
    "#instanciamos \n",
    "michi.maulla()"
   ]
  },
  {
   "cell_type": "markdown",
   "id": "f44fe7aa",
   "metadata": {},
   "source": [
    "## Challenge #4\n",
    "Definir una clase madre que herede a sus clases hijas dos atributos de instancia. Mostrar ambos atributos en pantalla desde los objetos de las clases hijas.\n",
    "\n",
    "Observación: Editar las clases hijas para que no se inicialicen."
   ]
  },
  {
   "cell_type": "code",
   "execution_count": 26,
   "id": "090edad5",
   "metadata": {},
   "outputs": [
    {
     "data": {
      "text/plain": [
       "'Bebesitaa lo nuestro es un secreto'"
      ]
     },
     "execution_count": 26,
     "metadata": {},
     "output_type": "execute_result"
    }
   ],
   "source": [
    "#crear la clase padre\n",
    "\n",
    "\n",
    "class Loro:\n",
    "    tipo = 'latino'\n",
    "    pico = 1\n",
    "    alas = True\n",
    "    volar= True\n",
    "    alas = 2\n",
    "     \n",
    "    \n",
    "    def __init__(self, color, tamanho):\n",
    "        self.color = color\n",
    "        self.tamanho = tamanho\n",
    "    def sonido():\n",
    "        return ('Repite como un humano')\n",
    "    def vola():\n",
    "        return 'Volandoo...'\n",
    "lorolara = Loro('Verde', 'Grande')\n",
    "\n",
    "class Lorito(Loro):\n",
    "    cola = 1\n",
    "    clase = \"tropical\" \n",
    "    \n",
    "    def canta(self):\n",
    "        return 'Bebesitaa lo nuestro es un secreto'\n",
    "    def come(self):\n",
    "        return 'Comiendo chipa guazu' \n",
    "pancho = Lorito('Azul', 'Grande')    \n",
    "\n",
    "pancho.canta()\n",
    "        "
   ]
  }
 ],
 "metadata": {
  "kernelspec": {
   "display_name": "Python 3",
   "language": "python",
   "name": "python3"
  },
  "language_info": {
   "codemirror_mode": {
    "name": "ipython",
    "version": 3
   },
   "file_extension": ".py",
   "mimetype": "text/x-python",
   "name": "python",
   "nbconvert_exporter": "python",
   "pygments_lexer": "ipython3",
   "version": "3.13.2"
  }
 },
 "nbformat": 4,
 "nbformat_minor": 5
}

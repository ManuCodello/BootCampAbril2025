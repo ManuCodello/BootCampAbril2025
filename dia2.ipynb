{
 "cells": [
  {
   "cell_type": "code",
   "execution_count": 8,
   "id": "5aa4e5f8",
   "metadata": {},
   "outputs": [],
   "source": [
    "def saludo_bienvenida(nombre):\n",
    "    print(f\"Hola {nombre}\")\n",
    "    \n"
   ]
  },
  {
   "cell_type": "code",
   "execution_count": 9,
   "id": "a2230423",
   "metadata": {},
   "outputs": [
    {
     "name": "stdout",
     "output_type": "stream",
     "text": [
      "Hola Juan\n"
     ]
    }
   ],
   "source": [
    "saludo_bienvenida(\"Juan\")"
   ]
  },
  {
   "cell_type": "code",
   "execution_count": 11,
   "id": "3b2ae274",
   "metadata": {},
   "outputs": [
    {
     "name": "stdout",
     "output_type": "stream",
     "text": [
      "Hola jsoe\n"
     ]
    }
   ],
   "source": [
    "usuario = input(\"¿Cuál es tu nombre? \")\n",
    "saludo_bienvenida(usuario)"
   ]
  },
  {
   "cell_type": "markdown",
   "id": "502fa76f",
   "metadata": {},
   "source": [
    "## Condicionales\n",
    "Diferente !=\n",
    "igual ==\n",
    "menor o igual\n",
    "- if (si)\n",
    "- elif (sino si)\n",
    "- else(sino) (no tiene ninugna instruccion\n",
    ")\n",
    "\n",
    "(pensar primero en la logica antes que la sintaxis)"
   ]
  },
  {
   "cell_type": "code",
   "execution_count": 17,
   "id": "578a6690",
   "metadata": {},
   "outputs": [
    {
     "name": "stdout",
     "output_type": "stream",
     "text": [
      "Estudiante\n"
     ]
    }
   ],
   "source": [
    "edad_individuo = 15 \n",
    "\n",
    "if edad_individuo < 18:\n",
    "    print(\"Estudiante\")\n",
    "elif edad_individuo > 65:\n",
    "    print(\"Es Jubilado\")\n",
    "else:\n",
    "    print(\"Es trabajador\")\n",
    "\n",
    "\n"
   ]
  },
  {
   "cell_type": "markdown",
   "id": "7f30933e",
   "metadata": {},
   "source": [
    "## Challenge "
   ]
  },
  {
   "cell_type": "code",
   "execution_count": 24,
   "id": "e71a836d",
   "metadata": {},
   "outputs": [
    {
     "name": "stdout",
     "output_type": "stream",
     "text": [
      "Hace lo queres papu\n"
     ]
    }
   ],
   "source": [
    "edad = int(input(\"Cual es tu edad hermano\"))\n",
    "\n",
    "if edad < 18:\n",
    "    print(\"Juguito nomas rey\")\n",
    "elif edad >= 21:\n",
    "    print(\"Hace lo queres papu\")\n",
    "else:\n",
    "    print(\"Podes tomar pero no comprar\")"
   ]
  },
  {
   "cell_type": "markdown",
   "id": "13044e3c",
   "metadata": {},
   "source": [
    "### Operadores logicos \n",
    "\n",
    "- and (y) los dos tienen que dar verdadero sino falso\n",
    "-  or (o) uno solo puede dar verdadero para ser verdadero\n",
    "- not (no) niega la condicion: si es verdadera la convierte en falsa, y al reves\n"
   ]
  },
  {
   "cell_type": "code",
   "execution_count": null,
   "id": "1c5a6344",
   "metadata": {},
   "outputs": [],
   "source": [
    "from zmq import EADDRNOTAVAIL\n",
    "\n",
    "\n",
    "def chequear_edad(edad_laboral, trabaja):\n",
    "    if edad_laboral < 18:\n",
    "        print('Estudiante')\n",
    "    elif edad_laboral < 65 and trabaja == True:\n",
    "        print('ACITVO LABORALMENTE ')\n",
    "    elif edad_laboral < 65 and  \n",
    "        "
   ]
  },
  {
   "cell_type": "code",
   "execution_count": 33,
   "id": "c71519cd",
   "metadata": {},
   "outputs": [
    {
     "name": "stdout",
     "output_type": "stream",
     "text": [
      "Temperatura en celsius es: 45\n",
      "Hakuuuu ajepa don\n"
     ]
    }
   ],
   "source": [
    "temperatura = int(input('Cual es la temperatura en celsius'))\n",
    "print('Temperatura en celsius es:', temperatura)\n",
    "\n",
    "\n",
    "if temperatura >= -10 and temperatura <= 18:\n",
    "    print('Fresquete bro')\n",
    "elif temperatura >=19 and temperatura <= 30:\n",
    "    print(\"Calor'i lgmt men\")\n",
    "elif temperatura >= 31 and temperatura <= 45:\n",
    "    print('Hakuuuu ajepa don')\n",
    "else:\n",
    "    print(\"Namano mba'e, mba'e la tanto\")"
   ]
  },
  {
   "cell_type": "markdown",
   "id": "5dc754d5",
   "metadata": {},
   "source": [
    "## BUCLES\n",
    "### while (mientras)\n",
    "Nos permite ejecutar la intruccion mientras una condicion se cumpla. Al momento que la condicion deje de ser cierta el bucle va a parar \n"
   ]
  },
  {
   "cell_type": "code",
   "execution_count": 7,
   "id": "f203a5c1",
   "metadata": {},
   "outputs": [
    {
     "name": "stdout",
     "output_type": "stream",
     "text": [
      "2\n",
      "10\n",
      "Numero correcto\n"
     ]
    }
   ],
   "source": [
    "numero_a_adivinar = 10\n",
    "numero = 3\n",
    "\n",
    "while numero != numero_a_adivinar:\n",
    "    numero = int(input('introduce un numero nuevo'))\n",
    "    print(numero)\n",
    "    \n",
    "print('Numero correcto')"
   ]
  },
  {
   "cell_type": "code",
   "execution_count": 8,
   "id": "cc15aa04",
   "metadata": {},
   "outputs": [
    {
     "name": "stdout",
     "output_type": "stream",
     "text": [
      "Numero incorrecto\n",
      "Numero incorrecto\n",
      "El numero ingresado es correcto\n"
     ]
    }
   ],
   "source": [
    "numero = 10 \n",
    "while True:\n",
    "    numero_ingresado = int(input('Introduce un numero'))\n",
    "    if numero_ingresado == numero:\n",
    "        print('El numero ingresado es correcto')\n",
    "        break\n",
    "    else:\n",
    "        print('Numero incorrecto')\n",
    "        \n",
    "        "
   ]
  },
  {
   "cell_type": "markdown",
   "id": "be2dae26",
   "metadata": {},
   "source": [
    "## Challenge \n",
    "Escribir un programa que almacene una contraseña en una variable, y pregunte al usuario por la contraseña hasta que introduzca la contraseña correcta.\n",
    "\n",
    "Cuando el usuario ingrese la contrasena correcta, imprimir un mensaje secreto."
   ]
  },
  {
   "cell_type": "code",
   "execution_count": 12,
   "id": "da957784",
   "metadata": {},
   "outputs": [
    {
     "name": "stdout",
     "output_type": "stream",
     "text": [
      "Es incorrecta\n",
      "Es incorrecta\n",
      "Es incorrecta\n",
      "Contrasena correcta\n"
     ]
    }
   ],
   "source": [
    "contrasena = ''\n",
    "contrasena_correcta = 'holamundo'\n",
    "\n",
    "while contrasena != contrasena_correcta:\n",
    "    contrasena = input(\"Introduzca la contrasena\")\n",
    "    print('Es incorrecta')\n",
    "print('Contrasena correcta')\n",
    "    "
   ]
  },
  {
   "cell_type": "markdown",
   "id": "06d9c390",
   "metadata": {},
   "source": [
    "## Listas \n",
    "Una agrupacion de objetos, pueden ser distintos tipos de datos, []\n",
    "si quiero tomar un elemento de la lista uso el indice\n",
    "- anhadir se usa .append (agrega al final de la lista)\n",
    "- para modificar de pone lista[0] = durazno\n",
    "- Eliminar lista_de_frutas.remove('pera')\n",
    "- Eliminar por indice lista_de_frutas.pop(1)\n",
    "- Contar elementos de la lista. print(len(lista_de_frutas))\n",
    "- "
   ]
  },
  {
   "cell_type": "markdown",
   "id": "75217796",
   "metadata": {},
   "source": [
    "## Challenge\n",
    "Challenge 🤺 - 20m\n",
    "Crear una lista de 5 elementos. Luego, seguir los siguientes pasos.\n",
    "\n",
    "Agregar un elemento al final de la lista.\n",
    "\n",
    "Modificar el segundo elemento.\n",
    "\n",
    "Eliminar el tercer elemento."
   ]
  },
  {
   "cell_type": "code",
   "execution_count": 24,
   "id": "c1603b56",
   "metadata": {},
   "outputs": [
    {
     "name": "stdout",
     "output_type": "stream",
     "text": [
      "['java', 'python', 'javascript', 'html', 'css', 'c++']\n",
      "['java', 'python', 'typescript', 'html', 'css', 'c++']\n",
      "['java', 'python', 'html', 'css', 'c++']\n"
     ]
    }
   ],
   "source": [
    "lenguajes_de_programacion =  ['java', 'python', 'javascript', 'html', 'css']\n",
    "\n",
    "lenguajes_de_programacion.append('c++')\n",
    "print(lenguajes_de_programacion)\n",
    "lenguajes_de_programacion[2] = \"typescript\"\n",
    "print(lenguajes_de_programacion)\n",
    "lenguajes_de_programacion.pop(2)\n",
    "\n",
    "print(lenguajes_de_programacion)"
   ]
  },
  {
   "cell_type": "markdown",
   "id": "1635755b",
   "metadata": {},
   "source": [
    "## Bucle iterativo \n",
    "### FOR\n",
    "Cuando queremos repetir una accion una cierta cantidad de veces, podemos utilizar un bucle iterativo\n",
    "Iteraciones: una accion repetida una cierta cantidad de veces, pero en cada repeticion se tiene el valor anterior\n"
   ]
  },
  {
   "cell_type": "code",
   "execution_count": 26,
   "id": "9e95c8ba",
   "metadata": {},
   "outputs": [
    {
     "name": "stdout",
     "output_type": "stream",
     "text": [
      "1\n",
      "2\n",
      "3\n",
      "4\n",
      "5\n",
      "6\n",
      "7\n",
      "0\n",
      "1\n",
      "2\n",
      "3\n",
      "4\n",
      "5\n",
      "6\n"
     ]
    }
   ],
   "source": [
    "dias_de_la_semana = [1, 2, 3, 4, 5, 6, 7] \n",
    "\n",
    "for i in dias_de_la_semana:\n",
    "    print(i)\n",
    "\n",
    "for i in range(7):\n",
    "    print(i)\n",
    " "
   ]
  },
  {
   "cell_type": "markdown",
   "id": "ea0e6987",
   "metadata": {},
   "source": [
    "## Challenge\n",
    "\n",
    "Escribir un programa que itere en un rango de 10 veces. Por cada iteracion multiplicar el iterador por dos e imprimir el resultado."
   ]
  },
  {
   "cell_type": "code",
   "execution_count": 31,
   "id": "df719a25",
   "metadata": {},
   "outputs": [
    {
     "name": "stdout",
     "output_type": "stream",
     "text": [
      "La multiplicacion sale:  2\n",
      "La multiplicacion sale:  4\n",
      "La multiplicacion sale:  6\n",
      "La multiplicacion sale:  8\n",
      "La multiplicacion sale:  10\n",
      "La multiplicacion sale:  12\n",
      "La multiplicacion sale:  14\n",
      "La multiplicacion sale:  16\n",
      "La multiplicacion sale:  18\n",
      "La multiplicacion sale:  20\n"
     ]
    }
   ],
   "source": [
    "#Escribir un programa que itere en un rango de 10 veces. Por cada iteracion multiplicar el iterador por dos e imprimir el resultado.\n",
    "\n",
    "\n",
    "numeros = [1,2,3,4,5,6,7,8,9,10]\n",
    "for numero in numeros:\n",
    "    numero = numero *2\n",
    "    print('La multiplicacion sale: ', numero)"
   ]
  },
  {
   "cell_type": "markdown",
   "id": "798a890a",
   "metadata": {},
   "source": [
    "## Challenge\n",
    "Recorrer los elementos de una lista de marcas e imprimir cada marca solamente si tiene 6 letras o más.\n",
    "    "
   ]
  },
  {
   "cell_type": "code",
   "execution_count": 35,
   "id": "7800d7cb",
   "metadata": {},
   "outputs": [
    {
     "name": "stdout",
     "output_type": "stream",
     "text": [
      "La letra no tiene 6 caracteres bro\n",
      "La letra no tiene 6 caracteres bro\n",
      "luisvi\n",
      "La letra no tiene 6 caracteres bro\n",
      "ferragamo\n"
     ]
    }
   ],
   "source": [
    "#Recorrer los elementos de una lista de marcas e imprimir cada marca solamente si tiene 6 letras o más.\n",
    "\n",
    "#Crear una lista de marcas \n",
    "#Recorrer la lista de marcas\n",
    "#crear una condicion si la palabra tienen mas de 6 caracteres\n",
    "\n",
    "marcas = [\"gucci\", 'prada', 'luisvi', 'rolex', 'ferragamo']\n",
    "\n",
    "for marca in marcas:\n",
    "    if len(marca) >= 6:\n",
    "        print(marca)\n",
    "    else:\n",
    "        print('La letra no tiene 6 caracteres bro')\n",
    "        \n",
    "        "
   ]
  },
  {
   "cell_type": "markdown",
   "id": "0f9b8a01",
   "metadata": {},
   "source": [
    "## Challenge \n",
    "Solicitar al usuario que ingrese una frase.\n",
    "\n",
    "Imprimir un mensaje cada vez que se encuentre una letra \"o\".\n"
   ]
  },
  {
   "cell_type": "code",
   "execution_count": 45,
   "id": "e514a907",
   "metadata": {},
   "outputs": [
    {
     "name": "stdout",
     "output_type": "stream",
     "text": [
      "Tu frase es:  hOlo\n",
      "Encontre una \"o\" (O.O)\n",
      "Encontre una \"o\" (O.O)\n"
     ]
    }
   ],
   "source": [
    "#solicitar al usuario una frase\n",
    "#imprimir la frase\n",
    "frase = input('Ingresa tu frase porfa en serio')\n",
    "print('Tu frase es: ', frase)\n",
    "#recorremos la lista\n",
    "for letra in frase:\n",
    "    #hacemos la condicion si encontramos la letra 'o'\n",
    "    if letra.lower() == 'o':\n",
    "        print('Encontre una \"o\" (O.O)')"
   ]
  },
  {
   "cell_type": "code",
   "execution_count": null,
   "id": "675395e4",
   "metadata": {},
   "outputs": [],
   "source": []
  }
 ],
 "metadata": {
  "kernelspec": {
   "display_name": "Python 3",
   "language": "python",
   "name": "python3"
  },
  "language_info": {
   "codemirror_mode": {
    "name": "ipython",
    "version": 3
   },
   "file_extension": ".py",
   "mimetype": "text/x-python",
   "name": "python",
   "nbconvert_exporter": "python",
   "pygments_lexer": "ipython3",
   "version": "3.13.2"
  }
 },
 "nbformat": 4,
 "nbformat_minor": 5
}
